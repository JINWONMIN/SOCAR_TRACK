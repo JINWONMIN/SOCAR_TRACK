{
 "cells": [
  {
   "cell_type": "markdown",
   "id": "b109ab82",
   "metadata": {},
   "source": [
    "<div align=\"center\">\n",
    "\n",
    "# 쏘카 메모(memo) 분류하기\n",
    "</div>"
   ]
  },
  {
   "cell_type": "markdown",
   "id": "c55691bb",
   "metadata": {},
   "source": [
    "**주요 라이브러리 버전 체크 및 불러오기**"
   ]
  },
  {
   "cell_type": "code",
   "execution_count": 1,
   "id": "0142e934",
   "metadata": {},
   "outputs": [
    {
     "name": "stdout",
     "output_type": "stream",
     "text": [
      "1.3.3\n",
      "4.1.2\n",
      "0.5.2\n",
      "0.1.96\n"
     ]
    }
   ],
   "source": [
    "from importlib.metadata import version\n",
    "import pandas\n",
    "import gensim\n",
    "import konlpy\n",
    "import sentencepiece\n",
    "\n",
    "print(pandas.__version__)\n",
    "print(gensim.__version__)\n",
    "print(konlpy.__version__)\n",
    "print(version('sentencepiece'))"
   ]
  },
  {
   "cell_type": "code",
   "execution_count": 2,
   "id": "ad95677e",
   "metadata": {},
   "outputs": [
    {
     "name": "stdout",
     "output_type": "stream",
     "text": [
      "Requirement already satisfied: python-Levenshtein in /opt/conda/lib/python3.9/site-packages (0.12.2)\n",
      "Requirement already satisfied: setuptools in /opt/conda/lib/python3.9/site-packages (from python-Levenshtein) (60.9.3)\n",
      "\u001b[33mWARNING: Running pip as the 'root' user can result in broken permissions and conflicting behaviour with the system package manager. It is recommended to use a virtual environment instead: https://pip.pypa.io/warnings/venv\u001b[0m\u001b[33m\n",
      "\u001b[0m"
     ]
    }
   ],
   "source": [
    "!pip install python-Levenshtein"
   ]
  },
  {
   "cell_type": "code",
   "execution_count": 66,
   "id": "f3ee9f8d",
   "metadata": {},
   "outputs": [],
   "source": [
    "import os\n",
    "from collections import Counter\n",
    "import pandas as pd\n",
    "import gensim\n",
    "from konlpy.tag import Komoran\n",
    "import sentencepiece as spm\n",
    "import matplotlib.pyplot as plt\n",
    "import seaborn as sns\n",
    "\n",
    "\n",
    "plt.rc('font', family='NanumBarunGothic')\n",
    "%config InlineBackend.figure_format = 'retina'"
   ]
  },
  {
   "cell_type": "markdown",
   "id": "557381af",
   "metadata": {},
   "source": [
    "### 1. 여러 카테고리에 대한 분류 시도"
   ]
  },
  {
   "cell_type": "markdown",
   "id": "8f804419",
   "metadata": {},
   "source": [
    "<br>\n",
    "\n",
    "**데이터 불러오기**\n",
    "\n",
    "---\n",
    "데이터를 불러와 카테고리 분류를 위해 필요한 컬럼만 남길 예정."
   ]
  },
  {
   "cell_type": "code",
   "execution_count": 4,
   "id": "91fc0341",
   "metadata": {},
   "outputs": [],
   "source": [
    "PATH = os.getenv('HOME') + '/aiffel/socar_memo/data'"
   ]
  },
  {
   "cell_type": "code",
   "execution_count": 5,
   "id": "a7baf612",
   "metadata": {},
   "outputs": [
    {
     "name": "stdout",
     "output_type": "stream",
     "text": [
      "1433\n"
     ]
    }
   ],
   "source": [
    "# load car dictionary\n",
    "def load_car_dic():\n",
    "    car_dic_file = open(PATH+'/carDic.txt','r')\n",
    "    car_dic = set(car_dic_file.read().split('\\n'))\n",
    "    return car_dic\n",
    "\n",
    "car_dic = load_car_dic()\n",
    "print(len(car_dic)) #1433"
   ]
  },
  {
   "cell_type": "code",
   "execution_count": 6,
   "id": "dd0aeb41",
   "metadata": {},
   "outputs": [
    {
     "data": {
      "text/html": [
       "<div>\n",
       "<style scoped>\n",
       "    .dataframe tbody tr th:only-of-type {\n",
       "        vertical-align: middle;\n",
       "    }\n",
       "\n",
       "    .dataframe tbody tr th {\n",
       "        vertical-align: top;\n",
       "    }\n",
       "\n",
       "    .dataframe thead th {\n",
       "        text-align: right;\n",
       "    }\n",
       "</style>\n",
       "<table border=\"1\" class=\"dataframe\">\n",
       "  <thead>\n",
       "    <tr style=\"text-align: right;\">\n",
       "      <th></th>\n",
       "      <th>inspect_id</th>\n",
       "      <th>car_id</th>\n",
       "      <th>inspect_at</th>\n",
       "      <th>inspect_type</th>\n",
       "      <th>price</th>\n",
       "      <th>description</th>\n",
       "    </tr>\n",
       "  </thead>\n",
       "  <tbody>\n",
       "    <tr>\n",
       "      <th>0</th>\n",
       "      <td>\\n2504316</td>\n",
       "      <td>8421.0</td>\n",
       "      <td>2020-03-09</td>\n",
       "      <td>타이어수리(후우)</td>\n",
       "      <td>6600.0</td>\n",
       "      <td>조수석뒤타이어 현장펑크수리</td>\n",
       "    </tr>\n",
       "    <tr>\n",
       "      <th>1</th>\n",
       "      <td>\\n2401681</td>\n",
       "      <td>6654.0</td>\n",
       "      <td>2020-01-07</td>\n",
       "      <td>미션오일</td>\n",
       "      <td>120000.0</td>\n",
       "      <td>단양애니카_미션오일 교환</td>\n",
       "    </tr>\n",
       "    <tr>\n",
       "      <th>2</th>\n",
       "      <td>\\n2384487</td>\n",
       "      <td>8563.0</td>\n",
       "      <td>2020-01-14</td>\n",
       "      <td>점화플러그</td>\n",
       "      <td>60000.0</td>\n",
       "      <td>당진세계모터스_점화플러그 교환</td>\n",
       "    </tr>\n",
       "    <tr>\n",
       "      <th>3</th>\n",
       "      <td>\\n2384485</td>\n",
       "      <td>8563.0</td>\n",
       "      <td>2020-01-14</td>\n",
       "      <td>브레이크액</td>\n",
       "      <td>50000.0</td>\n",
       "      <td>당진세계모터스-브레이크오일 교환</td>\n",
       "    </tr>\n",
       "    <tr>\n",
       "      <th>4</th>\n",
       "      <td>\\n2364371</td>\n",
       "      <td>6424.0</td>\n",
       "      <td>2020-01-06</td>\n",
       "      <td>브레이크액</td>\n",
       "      <td>40000.0</td>\n",
       "      <td>당진세계모터스_브레이크오일 교환</td>\n",
       "    </tr>\n",
       "  </tbody>\n",
       "</table>\n",
       "</div>"
      ],
      "text/plain": [
       "  inspect_id  car_id  inspect_at inspect_type     price        description\n",
       "0  \\n2504316  8421.0  2020-03-09    타이어수리(후우)    6600.0     조수석뒤타이어 현장펑크수리\n",
       "1  \\n2401681  6654.0  2020-01-07         미션오일  120000.0      단양애니카_미션오일 교환\n",
       "2  \\n2384487  8563.0  2020-01-14        점화플러그   60000.0   당진세계모터스_점화플러그 교환\n",
       "3  \\n2384485  8563.0  2020-01-14        브레이크액   50000.0  당진세계모터스-브레이크오일 교환\n",
       "4  \\n2364371  6424.0  2020-01-06        브레이크액   40000.0  당진세계모터스_브레이크오일 교환"
      ]
     },
     "execution_count": 6,
     "metadata": {},
     "output_type": "execute_result"
    }
   ],
   "source": [
    "memo_data = pd.read_csv(PATH+'/car_inspect_info.tsv', sep='\\t', lineterminator='\\r')\n",
    "memo_data.head()"
   ]
  },
  {
   "cell_type": "code",
   "execution_count": 7,
   "id": "c688a180",
   "metadata": {},
   "outputs": [],
   "source": [
    "# drop columns\n",
    "memo_data = memo_data.drop(columns=['inspect_id', 'car_id', 'price'])"
   ]
  },
  {
   "cell_type": "code",
   "execution_count": 8,
   "id": "08904e2b",
   "metadata": {},
   "outputs": [
    {
     "data": {
      "text/html": [
       "<div>\n",
       "<style scoped>\n",
       "    .dataframe tbody tr th:only-of-type {\n",
       "        vertical-align: middle;\n",
       "    }\n",
       "\n",
       "    .dataframe tbody tr th {\n",
       "        vertical-align: top;\n",
       "    }\n",
       "\n",
       "    .dataframe thead th {\n",
       "        text-align: right;\n",
       "    }\n",
       "</style>\n",
       "<table border=\"1\" class=\"dataframe\">\n",
       "  <thead>\n",
       "    <tr style=\"text-align: right;\">\n",
       "      <th></th>\n",
       "      <th>inspect_at</th>\n",
       "      <th>inspect_type</th>\n",
       "      <th>description</th>\n",
       "    </tr>\n",
       "  </thead>\n",
       "  <tbody>\n",
       "    <tr>\n",
       "      <th>18</th>\n",
       "      <td>NaN</td>\n",
       "      <td>NaN</td>\n",
       "      <td>NaN</td>\n",
       "    </tr>\n",
       "    <tr>\n",
       "      <th>20</th>\n",
       "      <td>NaN</td>\n",
       "      <td>NaN</td>\n",
       "      <td>NaN</td>\n",
       "    </tr>\n",
       "    <tr>\n",
       "      <th>22</th>\n",
       "      <td>NaN</td>\n",
       "      <td>NaN</td>\n",
       "      <td>NaN</td>\n",
       "    </tr>\n",
       "    <tr>\n",
       "      <th>58</th>\n",
       "      <td>NaN</td>\n",
       "      <td>NaN</td>\n",
       "      <td>NaN</td>\n",
       "    </tr>\n",
       "    <tr>\n",
       "      <th>169</th>\n",
       "      <td>NaN</td>\n",
       "      <td>NaN</td>\n",
       "      <td>NaN</td>\n",
       "    </tr>\n",
       "    <tr>\n",
       "      <th>...</th>\n",
       "      <td>...</td>\n",
       "      <td>...</td>\n",
       "      <td>...</td>\n",
       "    </tr>\n",
       "    <tr>\n",
       "      <th>272856</th>\n",
       "      <td>NaN</td>\n",
       "      <td>NaN</td>\n",
       "      <td>NaN</td>\n",
       "    </tr>\n",
       "    <tr>\n",
       "      <th>272858</th>\n",
       "      <td>NaN</td>\n",
       "      <td>NaN</td>\n",
       "      <td>NaN</td>\n",
       "    </tr>\n",
       "    <tr>\n",
       "      <th>272860</th>\n",
       "      <td>NaN</td>\n",
       "      <td>NaN</td>\n",
       "      <td>NaN</td>\n",
       "    </tr>\n",
       "    <tr>\n",
       "      <th>272862</th>\n",
       "      <td>NaN</td>\n",
       "      <td>NaN</td>\n",
       "      <td>NaN</td>\n",
       "    </tr>\n",
       "    <tr>\n",
       "      <th>272939</th>\n",
       "      <td>NaN</td>\n",
       "      <td>NaN</td>\n",
       "      <td>NaN</td>\n",
       "    </tr>\n",
       "  </tbody>\n",
       "</table>\n",
       "<p>18976 rows × 3 columns</p>\n",
       "</div>"
      ],
      "text/plain": [
       "       inspect_at inspect_type description\n",
       "18            NaN          NaN         NaN\n",
       "20            NaN          NaN         NaN\n",
       "22            NaN          NaN         NaN\n",
       "58            NaN          NaN         NaN\n",
       "169           NaN          NaN         NaN\n",
       "...           ...          ...         ...\n",
       "272856        NaN          NaN         NaN\n",
       "272858        NaN          NaN         NaN\n",
       "272860        NaN          NaN         NaN\n",
       "272862        NaN          NaN         NaN\n",
       "272939        NaN          NaN         NaN\n",
       "\n",
       "[18976 rows x 3 columns]"
      ]
     },
     "metadata": {},
     "output_type": "display_data"
    },
    {
     "data": {
      "text/plain": [
       "inspect_at      18679\n",
       "inspect_type    18754\n",
       "description     18901\n",
       "dtype: int64"
      ]
     },
     "metadata": {},
     "output_type": "display_data"
    }
   ],
   "source": [
    "display(memo_data[memo_data.isna().any(axis=1)])\n",
    "display(memo_data.isnull().sum())"
   ]
  },
  {
   "cell_type": "code",
   "execution_count": 9,
   "id": "c6e42088",
   "metadata": {},
   "outputs": [
    {
     "data": {
      "text/html": [
       "<div>\n",
       "<style scoped>\n",
       "    .dataframe tbody tr th:only-of-type {\n",
       "        vertical-align: middle;\n",
       "    }\n",
       "\n",
       "    .dataframe tbody tr th {\n",
       "        vertical-align: top;\n",
       "    }\n",
       "\n",
       "    .dataframe thead th {\n",
       "        text-align: right;\n",
       "    }\n",
       "</style>\n",
       "<table border=\"1\" class=\"dataframe\">\n",
       "  <thead>\n",
       "    <tr style=\"text-align: right;\">\n",
       "      <th></th>\n",
       "      <th>inspect_at</th>\n",
       "      <th>inspect_type</th>\n",
       "      <th>description</th>\n",
       "    </tr>\n",
       "  </thead>\n",
       "  <tbody>\n",
       "    <tr>\n",
       "      <th>0</th>\n",
       "      <td>2020-03-09</td>\n",
       "      <td>타이어수리(후우)</td>\n",
       "      <td>조수석뒤타이어 현장펑크수리</td>\n",
       "    </tr>\n",
       "    <tr>\n",
       "      <th>1</th>\n",
       "      <td>2020-01-07</td>\n",
       "      <td>미션오일</td>\n",
       "      <td>단양애니카_미션오일 교환</td>\n",
       "    </tr>\n",
       "    <tr>\n",
       "      <th>2</th>\n",
       "      <td>2020-01-14</td>\n",
       "      <td>점화플러그</td>\n",
       "      <td>당진세계모터스_점화플러그 교환</td>\n",
       "    </tr>\n",
       "    <tr>\n",
       "      <th>3</th>\n",
       "      <td>2020-01-14</td>\n",
       "      <td>브레이크액</td>\n",
       "      <td>당진세계모터스-브레이크오일 교환</td>\n",
       "    </tr>\n",
       "    <tr>\n",
       "      <th>4</th>\n",
       "      <td>2020-01-06</td>\n",
       "      <td>브레이크액</td>\n",
       "      <td>당진세계모터스_브레이크오일 교환</td>\n",
       "    </tr>\n",
       "  </tbody>\n",
       "</table>\n",
       "</div>"
      ],
      "text/plain": [
       "   inspect_at inspect_type        description\n",
       "0  2020-03-09    타이어수리(후우)     조수석뒤타이어 현장펑크수리\n",
       "1  2020-01-07         미션오일      단양애니카_미션오일 교환\n",
       "2  2020-01-14        점화플러그   당진세계모터스_점화플러그 교환\n",
       "3  2020-01-14        브레이크액  당진세계모터스-브레이크오일 교환\n",
       "4  2020-01-06        브레이크액  당진세계모터스_브레이크오일 교환"
      ]
     },
     "execution_count": 9,
     "metadata": {},
     "output_type": "execute_result"
    }
   ],
   "source": [
    "# nan 모두 삭제\n",
    "memo_data = memo_data.dropna() # drop nan row\n",
    "memo_data.head()"
   ]
  },
  {
   "cell_type": "code",
   "execution_count": 10,
   "id": "f1041fd9",
   "metadata": {},
   "outputs": [
    {
     "data": {
      "text/plain": [
       "array(['타이어수리(후우)', '미션오일', '점화플러그', '브레이크액', '브레이크', '하이패스', '타이어수리(전우)',\n",
       "       '타이어수리(후좌)', '사고수리', '블랙박스', '주차장위치', '후방카메라', '아이들러베어링', 'V리브드벨트',\n",
       "       '전압관리', '타이어수리(전좌)', '컴파운드', 'CSA', '상품화점검', '휠캡', '운영상태점검',\n",
       "       '키케이블', 'TCS', '기타', 'CSA_A/S', '배터리', '와이퍼', '전패드', '후패드', '사고조사',\n",
       "       '세차점검', '엔진오일', '일반수리', '장애처리', '정기검사', '출장점검', '네비게이션', '얼라이먼트',\n",
       "       '에어컨필터', '타이어일반', '재충전배터리', '타이어교체(전우)', '타이어교체(전좌)', '타이어교체(후우)',\n",
       "       '타이어교체(후좌)'], dtype=object)"
      ]
     },
     "metadata": {},
     "output_type": "display_data"
    }
   ],
   "source": [
    "display(memo_data['inspect_type'].unique())"
   ]
  },
  {
   "cell_type": "code",
   "execution_count": 11,
   "id": "ca937a7b",
   "metadata": {},
   "outputs": [
    {
     "data": {
      "text/plain": [
       "일반수리         52094\n",
       "엔진오일         34568\n",
       "에어컨필터        30591\n",
       "와이퍼          29651\n",
       "장애처리         16598\n",
       "출장점검         13374\n",
       "세차점검          8351\n",
       "타이어교체(전우)     7895\n",
       "타이어교체(전좌)     7676\n",
       "전패드           6159\n",
       "Name: inspect_type, dtype: int64"
      ]
     },
     "execution_count": 11,
     "metadata": {},
     "output_type": "execute_result"
    }
   ],
   "source": [
    "memo_data['inspect_type'].value_counts(normalize=False,\n",
    "                              sort=True,\n",
    "                              ascending=False).head(10)"
   ]
  },
  {
   "cell_type": "code",
   "execution_count": 12,
   "id": "0d91cf05",
   "metadata": {},
   "outputs": [],
   "source": [
    "c_memo_data = memo_data.loc[(memo_data['inspect_type'] == '엔진오일'), ['inspect_type', 'description']]"
   ]
  },
  {
   "cell_type": "code",
   "execution_count": 13,
   "id": "7aa62b52",
   "metadata": {},
   "outputs": [
    {
     "data": {
      "text/html": [
       "<div>\n",
       "<style scoped>\n",
       "    .dataframe tbody tr th:only-of-type {\n",
       "        vertical-align: middle;\n",
       "    }\n",
       "\n",
       "    .dataframe tbody tr th {\n",
       "        vertical-align: top;\n",
       "    }\n",
       "\n",
       "    .dataframe thead th {\n",
       "        text-align: right;\n",
       "    }\n",
       "</style>\n",
       "<table border=\"1\" class=\"dataframe\">\n",
       "  <thead>\n",
       "    <tr style=\"text-align: right;\">\n",
       "      <th></th>\n",
       "      <th>inspect_type</th>\n",
       "      <th>description</th>\n",
       "    </tr>\n",
       "  </thead>\n",
       "  <tbody>\n",
       "    <tr>\n",
       "      <th>75220</th>\n",
       "      <td>엔진오일</td>\n",
       "      <td>보령스팀닥터_엔진오일교환</td>\n",
       "    </tr>\n",
       "    <tr>\n",
       "      <th>75221</th>\n",
       "      <td>엔진오일</td>\n",
       "      <td>보령스팀닥터_엔진오일 교환</td>\n",
       "    </tr>\n",
       "    <tr>\n",
       "      <th>75222</th>\n",
       "      <td>엔진오일</td>\n",
       "      <td>당진세계모터스_엔진오일 교환</td>\n",
       "    </tr>\n",
       "    <tr>\n",
       "      <th>75223</th>\n",
       "      <td>엔진오일</td>\n",
       "      <td>당진세계모터스_엔진오일 교환</td>\n",
       "    </tr>\n",
       "    <tr>\n",
       "      <th>75224</th>\n",
       "      <td>엔진오일</td>\n",
       "      <td>교환 / 37w-1488</td>\n",
       "    </tr>\n",
       "  </tbody>\n",
       "</table>\n",
       "</div>"
      ],
      "text/plain": [
       "      inspect_type      description\n",
       "75220         엔진오일    보령스팀닥터_엔진오일교환\n",
       "75221         엔진오일   보령스팀닥터_엔진오일 교환\n",
       "75222         엔진오일  당진세계모터스_엔진오일 교환\n",
       "75223         엔진오일  당진세계모터스_엔진오일 교환\n",
       "75224         엔진오일    교환 / 37w-1488"
      ]
     },
     "metadata": {},
     "output_type": "display_data"
    },
    {
     "data": {
      "text/plain": [
       "array(['보령스팀닥터_엔진오일교환', '보령스팀닥터_엔진오일 교환', '당진세계모터스_엔진오일 교환', ...,\n",
       "       '스피드메이트 첨단2지구점 / 44w-0701', '엔진옫일교환_한국타이어', '엔진오일 교환 (티스테이션 부곡점 )'],\n",
       "      dtype=object)"
      ]
     },
     "metadata": {},
     "output_type": "display_data"
    }
   ],
   "source": [
    "display(c_memo_data.head())\n",
    "display(c_memo_data['description'].unique())"
   ]
  },
  {
   "cell_type": "code",
   "execution_count": 14,
   "id": "6dec97a8",
   "metadata": {},
   "outputs": [
    {
     "data": {
      "text/plain": [
       "(마인디즈) 엔진오일 교환          9856\n",
       "가온오토) 엔진오일 교환           1695\n",
       "교환                      1004\n",
       "엔진오일 교환                  922\n",
       "가온오토)엔진오일 교환             757\n",
       "엔진오일교환_한국타이어             730\n",
       "엔진오일교환                   709\n",
       "가온오토)엔진오일교환              506\n",
       "엔진오일                     458\n",
       "엔진오일 교환 (티스테이션 부곡점)      442\n",
       "용산산천점  엔진오일교환            351\n",
       "스피드메이트 신창점               274\n",
       "스피드메이트 첨단2지구점            250\n",
       "엔진오일 교환(타이어프로 마산내서점)     186\n",
       "대치점 엔진오일교환               182\n",
       "부산부곡점 엔진오일 세트 교환         171\n",
       "JJ motors                149\n",
       "엔진오일 교체                  146\n",
       "엔진오일 교환(동광정비)            144\n",
       "삼전점 엔진오일교환               143\n",
       "송파배명점 엔진오일교환             137\n",
       "엔진오일 교환(타이어프로 울산점)       136\n",
       "한타양재점   엔진오일교환           134\n",
       "시민운동장점                   132\n",
       "LS타워점 엔진오일 세트 교환         128\n",
       "도림점   엔진오일교환             124\n",
       "부산부곡점                    122\n",
       "터미널카센타                    97\n",
       "종로북촌점   엔진오일교환            94\n",
       "엔진오일 교환(거제동광공업사)          91\n",
       "Name: description, dtype: int64"
      ]
     },
     "execution_count": 14,
     "metadata": {},
     "output_type": "execute_result"
    }
   ],
   "source": [
    "c_memo_data['description'].value_counts(normalize=False,\n",
    "                              sort=True,\n",
    "                              ascending=False).head(30)"
   ]
  },
  {
   "cell_type": "code",
   "execution_count": 15,
   "id": "14e4bb42",
   "metadata": {},
   "outputs": [
    {
     "data": {
      "text/html": [
       "<div>\n",
       "<style scoped>\n",
       "    .dataframe tbody tr th:only-of-type {\n",
       "        vertical-align: middle;\n",
       "    }\n",
       "\n",
       "    .dataframe tbody tr th {\n",
       "        vertical-align: top;\n",
       "    }\n",
       "\n",
       "    .dataframe thead th {\n",
       "        text-align: right;\n",
       "    }\n",
       "</style>\n",
       "<table border=\"1\" class=\"dataframe\">\n",
       "  <thead>\n",
       "    <tr style=\"text-align: right;\">\n",
       "      <th></th>\n",
       "      <th>inspect_type</th>\n",
       "      <th>description</th>\n",
       "    </tr>\n",
       "  </thead>\n",
       "  <tbody>\n",
       "    <tr>\n",
       "      <th>113553</th>\n",
       "      <td>일반수리</td>\n",
       "      <td>전구 1개</td>\n",
       "    </tr>\n",
       "    <tr>\n",
       "      <th>113554</th>\n",
       "      <td>일반수리</td>\n",
       "      <td>네비거치대</td>\n",
       "    </tr>\n",
       "    <tr>\n",
       "      <th>113555</th>\n",
       "      <td>일반수리</td>\n",
       "      <td>더블전구 1개</td>\n",
       "    </tr>\n",
       "    <tr>\n",
       "      <th>113556</th>\n",
       "      <td>일반수리</td>\n",
       "      <td>더블 전구 2개</td>\n",
       "    </tr>\n",
       "    <tr>\n",
       "      <th>113557</th>\n",
       "      <td>일반수리</td>\n",
       "      <td>주간주행등 교환</td>\n",
       "    </tr>\n",
       "  </tbody>\n",
       "</table>\n",
       "</div>"
      ],
      "text/plain": [
       "       inspect_type description\n",
       "113553         일반수리       전구 1개\n",
       "113554         일반수리       네비거치대\n",
       "113555         일반수리     더블전구 1개\n",
       "113556         일반수리    더블 전구 2개\n",
       "113557         일반수리    주간주행등 교환"
      ]
     },
     "metadata": {},
     "output_type": "display_data"
    },
    {
     "data": {
      "text/plain": [
       "array(['전구 1개', '네비거치대', '더블전구 1개', ..., '전구 교체 (조수석 상향등)',\n",
       "       '번호판 분실 재발급 인지세', '44호4311 번호판 분실 재발급 취등록세'], dtype=object)"
      ]
     },
     "metadata": {},
     "output_type": "display_data"
    }
   ],
   "source": [
    "c_memo_data1 = memo_data.loc[(memo_data['inspect_type'] == '일반수리'), ['inspect_type', 'description']]\n",
    "display(c_memo_data1.head())\n",
    "display(c_memo_data1['description'].unique())"
   ]
  },
  {
   "cell_type": "code",
   "execution_count": 16,
   "id": "0cb547e0",
   "metadata": {},
   "outputs": [
    {
     "data": {
      "text/plain": [
       "부동액 1L 보충                946\n",
       "탁송(소모품)                  647\n",
       "정비픽업비 (티스테이션 부곡점)        633\n",
       "탁송                       477\n",
       "대치점  탁송(카로)              328\n",
       "용산산천점  딜리버리              295\n",
       "화성-볼펜,광택                 248\n",
       "탁송비                      221\n",
       "송파배명점  딜리버리              210\n",
       "남양주 볼펜, 광택               207\n",
       "용산산천점  탁송(카로직영)          186\n",
       "장애처리                     172\n",
       "도림점   딜리버리               161\n",
       "삼전점  탁송(카로직영)            154\n",
       "용산산천점  엔진 경고등 소거및배선정리    147\n",
       "이동점검비                    139\n",
       "대치점  엔진 경고등 소거및배선정리      137\n",
       "(마인디즈) 부동액 1L 보충         136\n",
       "고양 - 광택, 볼펜              130\n",
       "주차비(소모품)                 128\n",
       "Name: description, dtype: int64"
      ]
     },
     "execution_count": 16,
     "metadata": {},
     "output_type": "execute_result"
    }
   ],
   "source": [
    "c_memo_data1['description'].value_counts(normalize=False,\n",
    "                              sort=True,\n",
    "                              ascending=False).head(20)"
   ]
  },
  {
   "cell_type": "markdown",
   "id": "bbc62076",
   "metadata": {},
   "source": [
    "노드에서는 비율이 가장 높은 일반수리로 카테고리를 분석하였으니, 이번 프로젝트에서는 엔진오일을 활용해서 노드와 동일한 방법으로 진행한다."
   ]
  },
  {
   "cell_type": "markdown",
   "id": "ab955d96",
   "metadata": {},
   "source": [
    "### FastText 활용"
   ]
  },
  {
   "cell_type": "code",
   "execution_count": 17,
   "id": "295c9e11",
   "metadata": {},
   "outputs": [],
   "source": [
    "#sentenctePiece를 학습하기 위해서는 별도의 text 파일이 필요함\n",
    "#따라서 이를 만드는 부분\n",
    "with open(PATH+'/car_info_description.txt','w') as w, open(PATH+'/KCC150_100k.txt','r') as corpus:\n",
    "    w.write('\\n'.join(memo_data['description']))\n",
    "    for idx, snt in enumerate(corpus.readlines()):\n",
    "        w.write(snt)"
   ]
  },
  {
   "cell_type": "code",
   "execution_count": 18,
   "id": "00637a02",
   "metadata": {},
   "outputs": [
    {
     "name": "stderr",
     "output_type": "stream",
     "text": [
      "sentencepiece_trainer.cc(177) LOG(INFO) Running command: --input=/aiffel/aiffel/socar_memo/data/car_info_description.txt --model_prefix=/aiffel/aiffel/socar_memo/data/description --vocab_size=6000\n",
      "sentencepiece_trainer.cc(77) LOG(INFO) Starts training with : \n",
      "trainer_spec {\n",
      "  input: /aiffel/aiffel/socar_memo/data/car_info_description.txt\n",
      "  input_format: \n",
      "  model_prefix: /aiffel/aiffel/socar_memo/data/description\n",
      "  model_type: UNIGRAM\n",
      "  vocab_size: 6000\n",
      "  self_test_sample_size: 0\n",
      "  character_coverage: 0.9995\n",
      "  input_sentence_size: 0\n",
      "  shuffle_input_sentence: 1\n",
      "  seed_sentencepiece_size: 1000000\n",
      "  shrinking_factor: 0.75\n",
      "  max_sentence_length: 4192\n",
      "  num_threads: 16\n",
      "  num_sub_iterations: 2\n",
      "  max_sentencepiece_length: 16\n",
      "  split_by_unicode_script: 1\n",
      "  split_by_number: 1\n",
      "  split_by_whitespace: 1\n",
      "  split_digits: 0\n",
      "  treat_whitespace_as_suffix: 0\n",
      "  allow_whitespace_only_pieces: 0\n",
      "  required_chars: \n",
      "  byte_fallback: 0\n",
      "  vocabulary_output_piece_score: 1\n",
      "  train_extremely_large_corpus: 0\n",
      "  hard_vocab_limit: 1\n",
      "  use_all_vocab: 0\n",
      "  unk_id: 0\n",
      "  bos_id: 1\n",
      "  eos_id: 2\n",
      "  pad_id: -1\n",
      "  unk_piece: <unk>\n",
      "  bos_piece: <s>\n",
      "  eos_piece: </s>\n",
      "  pad_piece: <pad>\n",
      "  unk_surface:  ⁇ \n",
      "}\n",
      "normalizer_spec {\n",
      "  name: nmt_nfkc\n",
      "  add_dummy_prefix: 1\n",
      "  remove_extra_whitespaces: 1\n",
      "  escape_whitespaces: 1\n",
      "  normalization_rule_tsv: \n",
      "}\n",
      "denormalizer_spec {}\n",
      "trainer_interface.cc(329) LOG(INFO) SentenceIterator is not specified. Using MultiFileSentenceIterator.\n",
      "trainer_interface.cc(178) LOG(INFO) Loading corpus: /aiffel/aiffel/socar_memo/data/car_info_description.txt\n",
      "trainer_interface.cc(356) LOG(WARNING) Found too long line (9828 > 4192).\n",
      "trainer_interface.cc(358) LOG(WARNING) Too long lines are skipped in the training.\n",
      "trainer_interface.cc(359) LOG(WARNING) The maximum length can be changed with --max_sentence_length=<size> flag.\n",
      "trainer_interface.cc(385) LOG(INFO) Loaded all 354137 sentences\n",
      "trainer_interface.cc(391) LOG(INFO) Skipped 4 too long sentences.\n",
      "trainer_interface.cc(400) LOG(INFO) Adding meta_piece: <unk>\n",
      "trainer_interface"
     ]
    },
    {
     "data": {
      "text/plain": [
       "True"
      ]
     },
     "execution_count": 18,
     "metadata": {},
     "output_type": "execute_result"
    },
    {
     "name": "stderr",
     "output_type": "stream",
     "text": [
      ".cc(400) LOG(INFO) Adding meta_piece: <s>\n",
      "trainer_interface.cc(400) LOG(INFO) Adding meta_piece: </s>\n",
      "trainer_interface.cc(405) LOG(INFO) Normalizing sentences...\n",
      "trainer_interface.cc(466) LOG(INFO) all chars count=10488284\n",
      "trainer_interface.cc(477) LOG(INFO) Done: 99.9502% characters are covered.\n",
      "trainer_interface.cc(487) LOG(INFO) Alphabet size=1274\n",
      "trainer_interface.cc(488) LOG(INFO) Final character coverage=0.999502\n",
      "trainer_interface.cc(520) LOG(INFO) Done! preprocessed 354137 sentences.\n",
      "unigram_model_trainer.cc(139) LOG(INFO) Making suffix array...\n",
      "unigram_model_trainer.cc(143) LOG(INFO) Extracting frequent sub strings...\n",
      "unigram_model_trainer.cc(194) LOG(INFO) Initialized 294077 seed sentencepieces\n",
      "trainer_interface.cc(526) LOG(INFO) Tokenizing input sentences with whitespace: 354137\n",
      "trainer_interface.cc(537) LOG(INFO) Done! 397820\n",
      "unigram_model_trainer.cc(489) LOG(INFO) Using 397820 sentences for EM training\n",
      "unigram_model_trainer.cc(505) LOG(INFO) EM sub_iter=0 size=150591 obj=14.7531 num_tokens=885257 num_tokens/piece=5.87855\n",
      "unigram_model_trainer.cc(505) LOG(INFO) EM sub_iter=1 size=133638 obj=13.3042 num_tokens=888203 num_tokens/piece=6.64634\n",
      "unigram_model_trainer.cc(505) LOG(INFO) EM sub_iter=0 size=100211 obj=13.3028 num_tokens=918467 num_tokens/piece=9.16533\n",
      "unigram_model_trainer.cc(505) LOG(INFO) EM sub_iter=1 size=100112 obj=13.2662 num_tokens=919097 num_tokens/piece=9.18069\n",
      "unigram_model_trainer.cc(505) LOG(INFO) EM sub_iter=0 size=75084 obj=13.3954 num_tokens=960841 num_tokens/piece=12.7969\n",
      "unigram_model_trainer.cc(505) LOG(INFO) EM sub_iter=1 size=75082 obj=13.3623 num_tokens=960945 num_tokens/piece=12.7986\n",
      "unigram_model_trainer.cc(505) LOG(INFO) EM sub_iter=0 size=56311 obj=13.5242 num_tokens=1003923 num_tokens/piece=17.8282\n",
      "unigram_model_trainer.cc(505) LOG(INFO) EM sub_iter=1 size=56311 obj=13.4887 num_tokens=1003900 num_tokens/piece=17.8278\n",
      "unigram_model_trainer.cc(505) LOG(INFO) EM sub_iter=0 size=42233 obj=13.6814 num_tokens=1048247 num_tokens/piece=24.8206\n",
      "unigram_model_trainer.cc(505) LOG(INFO) EM sub_iter=1 size=42233 obj=13.6414 num_tokens=1048260 num_tokens/piece=24.8209\n",
      "unigram_model_trainer.cc(505) LOG(INFO) EM sub_iter=0 size=31674 obj=13.8635 num_tokens=1094110 num_tokens/piece=34.5428\n",
      "unigram_model_trainer.cc(505) LOG(INFO) EM sub_iter=1 size=31674 obj=13.8176 num_tokens=1094106 num_tokens/piece=34.5427\n",
      "unigram_model_trainer.cc(505) LOG(INFO) EM sub_iter=0 size=23755 obj=14.0783 num_tokens=1143395 num_tokens/piece=48.1328\n",
      "unigram_model_trainer.cc(505) LOG(INFO) EM sub_iter=1 size=23755 obj=14.0276 num_tokens=1143480 num_tokens/piece=48.1364\n",
      "unigram_model_trainer.cc(505) LOG(INFO) EM sub_iter=0 size=17816 obj=14.325 num_tokens=1195260 num_tokens/piece=67.0891\n",
      "unigram_model_trainer.cc(505) LOG(INFO) EM sub_iter=1 size=17816 obj=14.2661 num_tokens=1195260 num_tokens/piece=67.0891\n",
      "unigram_model_trainer.cc(505) LOG(INFO) EM sub_iter=0 size=13362 obj=14.5939 num_tokens=1249602 num_tokens/piece=93.5191\n",
      "unigram_model_trainer.cc(505) LOG(INFO) EM sub_iter=1 size=13362 obj=14.5268 num_tokens=1249629 num_tokens/piece=93.5211\n",
      "unigram_model_trainer.cc(505) LOG(INFO) EM sub_iter=0 size=10021 obj=14.9055 num_tokens=1308777 num_tokens/piece=130.603\n",
      "unigram_model_trainer.cc(505) LOG(INFO) EM sub_iter=1 size=10021 obj=14.8298 num_tokens=1308799 num_tokens/piece=130.606\n",
      "unigram_model_trainer.cc(505) LOG(INFO) EM sub_iter=0 size=7515 obj=15.255 num_tokens=1370949 num_tokens/piece=182.428\n",
      "unigram_model_trainer.cc(505) LOG(INFO) EM sub_iter=1 size=7515 obj=15.1684 num_tokens=1370958 num_tokens/piece=182.43\n",
      "unigram_model_trainer.cc(505) LOG(INFO) EM sub_iter=0 size=6600 obj=15.3704 num_tokens=1398168 num_tokens/piece=211.844\n",
      "unigram_model_trainer.cc(505) LOG(INFO) EM sub_iter=1 size=6600 obj=15.3304 num_tokens=1398172 num_tokens/piece=211.844\n",
      "trainer_interface.cc(615) LOG(INFO) Saving model: /aiffel/aiffel/socar_memo/data/description.model\n",
      "trainer_interface.cc(626) LOG(INFO) Saving vocabs: /aiffel/aiffel/socar_memo/data/description.vocab\n"
     ]
    }
   ],
   "source": [
    "#SentencePiece Train & load\n",
    "spm.SentencePieceTrainer.Train(f'--input={PATH}/car_info_description.txt --model_prefix={PATH}/description --vocab_size=6000')\n",
    "sp = spm.SentencePieceProcessor()\n",
    "vocab_file = PATH+'/description.model'\n",
    "sp.load(vocab_file)"
   ]
  },
  {
   "cell_type": "markdown",
   "id": "f1ecb800",
   "metadata": {},
   "source": [
    "**description 전처리**\n",
    "\n",
    "---"
   ]
  },
  {
   "cell_type": "code",
   "execution_count": 19,
   "id": "3129bd8d",
   "metadata": {},
   "outputs": [
    {
     "data": {
      "text/html": [
       "<div>\n",
       "<style scoped>\n",
       "    .dataframe tbody tr th:only-of-type {\n",
       "        vertical-align: middle;\n",
       "    }\n",
       "\n",
       "    .dataframe tbody tr th {\n",
       "        vertical-align: top;\n",
       "    }\n",
       "\n",
       "    .dataframe thead th {\n",
       "        text-align: right;\n",
       "    }\n",
       "</style>\n",
       "<table border=\"1\" class=\"dataframe\">\n",
       "  <thead>\n",
       "    <tr style=\"text-align: right;\">\n",
       "      <th></th>\n",
       "      <th>inspect_at</th>\n",
       "      <th>inspect_type</th>\n",
       "      <th>description</th>\n",
       "      <th>subword_description</th>\n",
       "    </tr>\n",
       "  </thead>\n",
       "  <tbody>\n",
       "    <tr>\n",
       "      <th>0</th>\n",
       "      <td>2020-03-09</td>\n",
       "      <td>타이어수리(후우)</td>\n",
       "      <td>조수석뒤타이어 현장펑크수리</td>\n",
       "      <td>조수석 뒤 타이어 현장 펑크수리</td>\n",
       "    </tr>\n",
       "    <tr>\n",
       "      <th>1</th>\n",
       "      <td>2020-01-07</td>\n",
       "      <td>미션오일</td>\n",
       "      <td>단양애니카_미션오일 교환</td>\n",
       "      <td>단 양 애 니 카 미션오일 교환</td>\n",
       "    </tr>\n",
       "    <tr>\n",
       "      <th>2</th>\n",
       "      <td>2020-01-14</td>\n",
       "      <td>점화플러그</td>\n",
       "      <td>당진세계모터스_점화플러그 교환</td>\n",
       "      <td>당진세계모터스 점화플러그 교환</td>\n",
       "    </tr>\n",
       "    <tr>\n",
       "      <th>3</th>\n",
       "      <td>2020-01-14</td>\n",
       "      <td>브레이크액</td>\n",
       "      <td>당진세계모터스-브레이크오일 교환</td>\n",
       "      <td>당진세계모터스 브레이크오일 교환</td>\n",
       "    </tr>\n",
       "    <tr>\n",
       "      <th>4</th>\n",
       "      <td>2020-01-06</td>\n",
       "      <td>브레이크액</td>\n",
       "      <td>당진세계모터스_브레이크오일 교환</td>\n",
       "      <td>당진세계모터스 브레이크오일 교환</td>\n",
       "    </tr>\n",
       "  </tbody>\n",
       "</table>\n",
       "</div>"
      ],
      "text/plain": [
       "   inspect_at inspect_type        description subword_description\n",
       "0  2020-03-09    타이어수리(후우)     조수석뒤타이어 현장펑크수리   조수석 뒤 타이어 현장 펑크수리\n",
       "1  2020-01-07         미션오일      단양애니카_미션오일 교환   단 양 애 니 카 미션오일 교환\n",
       "2  2020-01-14        점화플러그   당진세계모터스_점화플러그 교환    당진세계모터스 점화플러그 교환\n",
       "3  2020-01-14        브레이크액  당진세계모터스-브레이크오일 교환   당진세계모터스 브레이크오일 교환\n",
       "4  2020-01-06        브레이크액  당진세계모터스_브레이크오일 교환   당진세계모터스 브레이크오일 교환"
      ]
     },
     "execution_count": 19,
     "metadata": {},
     "output_type": "execute_result"
    }
   ],
   "source": [
    "def to_token(df, col):\n",
    "    '''\n",
    "    make sentence to subword sentence\n",
    "    '''\n",
    "    morph_description = []\n",
    "    for _, row in df.iterrows():\n",
    "        memo = row[col]\n",
    "        sp_out = sp.encode_as_pieces(memo.replace('_',' ').replace('-',' ').replace('/',' ').replace('ㄴ',' ').replace('#',' ').replace('=',' ').replace(')',' ) ').replace('(',' ( '))\n",
    "        morph_description.append(' '.join([token.replace('▁','') for token in sp_out]))\n",
    "\n",
    "    df[\"subword_description\"] = morph_description\n",
    "    return df\n",
    "\n",
    "memo_data = to_token(memo_data, \"description\")\n",
    "memo_data.head()"
   ]
  },
  {
   "cell_type": "code",
   "execution_count": 20,
   "id": "7c196eea",
   "metadata": {},
   "outputs": [
    {
     "name": "stdout",
     "output_type": "stream",
     "text": [
      "254142\n"
     ]
    }
   ],
   "source": [
    "# FastText train data processing\n",
    "ft_train = list(memo_data['subword_description'])\n",
    "ft_train = [line.split() for line in ft_train]\n",
    "\n",
    "print(len(ft_train))"
   ]
  },
  {
   "cell_type": "code",
   "execution_count": 21,
   "id": "e4a8ddc9",
   "metadata": {},
   "outputs": [
    {
     "data": {
      "text/plain": [
       "(13180181, 17249640)"
      ]
     },
     "execution_count": 21,
     "metadata": {},
     "output_type": "execute_result"
    }
   ],
   "source": [
    "# FastText train part\n",
    "model = gensim.models.fasttext.FastText(ft_train, \n",
    "                                        vector_size=300,\n",
    "                                        window=5,\n",
    "                                        min_count=1)\n",
    "model.build_vocab(ft_train)\n",
    "model.train(ft_train, total_examples=len(ft_train), epochs=10)"
   ]
  },
  {
   "cell_type": "code",
   "execution_count": 23,
   "id": "7f11d30d",
   "metadata": {},
   "outputs": [],
   "source": [
    "# Word2Vec train part\n",
    "model1 = gensim.models.word2vec.Word2Vec(ft_train,\n",
    "                                         vector_size=300,\n",
    "                                         window=5,\n",
    "                                         min_count=1,\n",
    "                                         epochs=10)"
   ]
  },
  {
   "cell_type": "code",
   "execution_count": 30,
   "id": "2bc44b91",
   "metadata": {},
   "outputs": [],
   "source": [
    "temp = model.wv.most_similar('타이어', topn=20)\n",
    "temp1 = model1.wv.most_similar('타이어', topn=20)"
   ]
  },
  {
   "cell_type": "code",
   "execution_count": 31,
   "id": "2a572f22",
   "metadata": {},
   "outputs": [],
   "source": [
    "ft_col_names = ['ft_token', 'ft_similarity']\n",
    "w2v_col_names = ['w2v_token', 'w2v_similarity']"
   ]
  },
  {
   "cell_type": "code",
   "execution_count": 33,
   "id": "e1bb7fdd",
   "metadata": {},
   "outputs": [],
   "source": [
    "ft = pd.DataFrame(temp, columns=ft_col_names)\n",
    "w2v = pd.DataFrame(temp1, columns=w2v_col_names)"
   ]
  },
  {
   "cell_type": "code",
   "execution_count": 47,
   "id": "4ef36eab",
   "metadata": {},
   "outputs": [],
   "source": [
    "comparison = pd.concat([ft, w2v], axis=1, join='inner')"
   ]
  },
  {
   "cell_type": "code",
   "execution_count": 48,
   "id": "43b1dc35",
   "metadata": {},
   "outputs": [
    {
     "data": {
      "text/html": [
       "<div>\n",
       "<style scoped>\n",
       "    .dataframe tbody tr th:only-of-type {\n",
       "        vertical-align: middle;\n",
       "    }\n",
       "\n",
       "    .dataframe tbody tr th {\n",
       "        vertical-align: top;\n",
       "    }\n",
       "\n",
       "    .dataframe thead th {\n",
       "        text-align: right;\n",
       "    }\n",
       "</style>\n",
       "<table border=\"1\" class=\"dataframe\">\n",
       "  <thead>\n",
       "    <tr style=\"text-align: right;\">\n",
       "      <th></th>\n",
       "      <th>ft_token</th>\n",
       "      <th>ft_similarity</th>\n",
       "      <th>w2v_token</th>\n",
       "      <th>w2v_similarity</th>\n",
       "    </tr>\n",
       "  </thead>\n",
       "  <tbody>\n",
       "    <tr>\n",
       "      <th>0</th>\n",
       "      <td>이어</td>\n",
       "      <td>0.830301</td>\n",
       "      <td>전우타이어</td>\n",
       "      <td>0.602388</td>\n",
       "    </tr>\n",
       "    <tr>\n",
       "      <th>1</th>\n",
       "      <td>앞타이어</td>\n",
       "      <td>0.810535</td>\n",
       "      <td>앞타이어</td>\n",
       "      <td>0.592893</td>\n",
       "    </tr>\n",
       "    <tr>\n",
       "      <th>2</th>\n",
       "      <td>타이어펑크</td>\n",
       "      <td>0.798175</td>\n",
       "      <td>전좌타이어</td>\n",
       "      <td>0.582812</td>\n",
       "    </tr>\n",
       "    <tr>\n",
       "      <th>3</th>\n",
       "      <td>후좌타이어</td>\n",
       "      <td>0.769872</td>\n",
       "      <td>타이어펑크</td>\n",
       "      <td>0.511219</td>\n",
       "    </tr>\n",
       "    <tr>\n",
       "      <th>4</th>\n",
       "      <td>전좌타이어</td>\n",
       "      <td>0.754862</td>\n",
       "      <td>후우타이어</td>\n",
       "      <td>0.511016</td>\n",
       "    </tr>\n",
       "    <tr>\n",
       "      <th>5</th>\n",
       "      <td>전우타이어</td>\n",
       "      <td>0.737759</td>\n",
       "      <td>후좌타이어</td>\n",
       "      <td>0.500462</td>\n",
       "    </tr>\n",
       "    <tr>\n",
       "      <th>6</th>\n",
       "      <td>후우타이어</td>\n",
       "      <td>0.725840</td>\n",
       "      <td>륜</td>\n",
       "      <td>0.491418</td>\n",
       "    </tr>\n",
       "    <tr>\n",
       "      <th>7</th>\n",
       "      <td>타이어공기압</td>\n",
       "      <td>0.637338</td>\n",
       "      <td>바퀴</td>\n",
       "      <td>0.481444</td>\n",
       "    </tr>\n",
       "    <tr>\n",
       "      <th>8</th>\n",
       "      <td>타이어교체</td>\n",
       "      <td>0.622759</td>\n",
       "      <td>펑크</td>\n",
       "      <td>0.475877</td>\n",
       "    </tr>\n",
       "    <tr>\n",
       "      <th>9</th>\n",
       "      <td>타이어테크</td>\n",
       "      <td>0.580506</td>\n",
       "      <td>타이어교체</td>\n",
       "      <td>0.450873</td>\n",
       "    </tr>\n",
       "    <tr>\n",
       "      <th>10</th>\n",
       "      <td>금호타이어구의점</td>\n",
       "      <td>0.568980</td>\n",
       "      <td>TPMS</td>\n",
       "      <td>0.428561</td>\n",
       "    </tr>\n",
       "    <tr>\n",
       "      <th>11</th>\n",
       "      <td>타이어교환</td>\n",
       "      <td>0.562247</td>\n",
       "      <td>브레이크패드</td>\n",
       "      <td>0.417704</td>\n",
       "    </tr>\n",
       "    <tr>\n",
       "      <th>12</th>\n",
       "      <td>동국타이어</td>\n",
       "      <td>0.549007</td>\n",
       "      <td>파스</td>\n",
       "      <td>0.414260</td>\n",
       "    </tr>\n",
       "    <tr>\n",
       "      <th>13</th>\n",
       "      <td>타이어휠바란스</td>\n",
       "      <td>0.538118</td>\n",
       "      <td>휀다</td>\n",
       "      <td>0.412889</td>\n",
       "    </tr>\n",
       "    <tr>\n",
       "      <th>14</th>\n",
       "      <td>바퀴</td>\n",
       "      <td>0.466626</td>\n",
       "      <td>타이어교환</td>\n",
       "      <td>0.401734</td>\n",
       "    </tr>\n",
       "    <tr>\n",
       "      <th>15</th>\n",
       "      <td>브레이크패드</td>\n",
       "      <td>0.464114</td>\n",
       "      <td>타이어공기압</td>\n",
       "      <td>0.394829</td>\n",
       "    </tr>\n",
       "    <tr>\n",
       "      <th>16</th>\n",
       "      <td>한국타이어</td>\n",
       "      <td>0.446933</td>\n",
       "      <td>하향등</td>\n",
       "      <td>0.371634</td>\n",
       "    </tr>\n",
       "    <tr>\n",
       "      <th>17</th>\n",
       "      <td>타이어프로</td>\n",
       "      <td>0.442507</td>\n",
       "      <td>마모</td>\n",
       "      <td>0.371235</td>\n",
       "    </tr>\n",
       "    <tr>\n",
       "      <th>18</th>\n",
       "      <td>TPMS</td>\n",
       "      <td>0.408233</td>\n",
       "      <td>드럼</td>\n",
       "      <td>0.364134</td>\n",
       "    </tr>\n",
       "    <tr>\n",
       "      <th>19</th>\n",
       "      <td>휀다</td>\n",
       "      <td>0.400231</td>\n",
       "      <td>켈</td>\n",
       "      <td>0.357840</td>\n",
       "    </tr>\n",
       "  </tbody>\n",
       "</table>\n",
       "</div>"
      ],
      "text/plain": [
       "    ft_token  ft_similarity w2v_token  w2v_similarity\n",
       "0         이어       0.830301     전우타이어        0.602388\n",
       "1       앞타이어       0.810535      앞타이어        0.592893\n",
       "2      타이어펑크       0.798175     전좌타이어        0.582812\n",
       "3      후좌타이어       0.769872     타이어펑크        0.511219\n",
       "4      전좌타이어       0.754862     후우타이어        0.511016\n",
       "5      전우타이어       0.737759     후좌타이어        0.500462\n",
       "6      후우타이어       0.725840         륜        0.491418\n",
       "7     타이어공기압       0.637338        바퀴        0.481444\n",
       "8      타이어교체       0.622759        펑크        0.475877\n",
       "9      타이어테크       0.580506     타이어교체        0.450873\n",
       "10  금호타이어구의점       0.568980      TPMS        0.428561\n",
       "11     타이어교환       0.562247    브레이크패드        0.417704\n",
       "12     동국타이어       0.549007        파스        0.414260\n",
       "13   타이어휠바란스       0.538118        휀다        0.412889\n",
       "14        바퀴       0.466626     타이어교환        0.401734\n",
       "15    브레이크패드       0.464114    타이어공기압        0.394829\n",
       "16     한국타이어       0.446933       하향등        0.371634\n",
       "17     타이어프로       0.442507        마모        0.371235\n",
       "18      TPMS       0.408233        드럼        0.364134\n",
       "19        휀다       0.400231         켈        0.357840"
      ]
     },
     "execution_count": 48,
     "metadata": {},
     "output_type": "execute_result"
    }
   ],
   "source": [
    "comparison"
   ]
  },
  {
   "cell_type": "markdown",
   "id": "cd139ac4",
   "metadata": {},
   "source": [
    "**키워드 추출 및 분류**\n",
    "\n",
    "---"
   ]
  },
  {
   "cell_type": "code",
   "execution_count": 49,
   "id": "50147f1b",
   "metadata": {},
   "outputs": [
    {
     "data": {
      "text/plain": [
       "[('와이퍼', 0.6544137001037598),\n",
       " ('에어컨필터', 0.556540846824646),\n",
       " ('에어콘필터', 0.5245886445045471),\n",
       " ('에어컨', 0.510284423828125),\n",
       " ('항균필터', 0.49314117431640625),\n",
       " ('전패드', 0.47194793820381165),\n",
       " ('와이퍼브러쉬', 0.46999412775039673),\n",
       " ('필터', 0.4580807089805603),\n",
       " ('김천율곡점', 0.45071807503700256),\n",
       " ('06', 0.4399259388446808)]"
      ]
     },
     "execution_count": 49,
     "metadata": {},
     "output_type": "execute_result"
    }
   ],
   "source": [
    "# check word most similarity\n",
    "model.wv.most_similar('엔진오일', topn=10)"
   ]
  },
  {
   "cell_type": "code",
   "execution_count": 50,
   "id": "156eaa7b",
   "metadata": {},
   "outputs": [
    {
     "data": {
      "text/plain": [
       "[('교체', 0.5644416213035583),\n",
       " ('타이어교환', 0.5039736032485962),\n",
       " ('항균필터교환', 0.4911036789417267),\n",
       " ('전좌타이어교환', 0.4556201994419098),\n",
       " ('방문점검', 0.4445664882659912),\n",
       " ('위치교환', 0.4313737750053406),\n",
       " ('일반', 0.4187207520008087),\n",
       " ('전우타이어교환', 0.4183083474636078),\n",
       " ('타이어위치교환', 0.4130127727985382),\n",
       " ('에어컨필터교환', 0.41038426756858826)]"
      ]
     },
     "execution_count": 50,
     "metadata": {},
     "output_type": "execute_result"
    }
   ],
   "source": [
    "model.wv.most_similar('교환', topn=10)"
   ]
  },
  {
   "cell_type": "code",
   "execution_count": 51,
   "id": "548818b2",
   "metadata": {},
   "outputs": [],
   "source": [
    "def exclusion(word_list):\n",
    "    '''\n",
    "    most_similar의 단어를 평균 이상만 추림\n",
    "    '''\n",
    "    count = sum([score for _, score in word_list])\n",
    "    avg = count / len(word_list)\n",
    "  \n",
    "    up_word = []\n",
    "    for w, s in word_list:\n",
    "        if s > avg:\n",
    "            up_word.append(w)\n",
    "  \n",
    "    return up_word"
   ]
  },
  {
   "cell_type": "code",
   "execution_count": 52,
   "id": "82ec21c1",
   "metadata": {},
   "outputs": [
    {
     "name": "stdout",
     "output_type": "stream",
     "text": [
      "{'헤드라이트', '전구', '주행등', '라이트전구', '브레이크전구', '미등', '라이', '전조등', '백색더블', '브레이크등', '안개등', '하향등', '라이트', '주간주행등', '주간'}\n",
      "\n",
      "['공기압경고등', '라이트경고등', '경고', '엔진체크등', '고장코드', '경고등']\n"
     ]
    }
   ],
   "source": [
    "# 라이트, 전구 에서 나온 단어들 평균 이상만 저장\n",
    "light = model.wv.most_similar('라이트', topn=20)\n",
    "light_word = exclusion(light)\n",
    "light = model.wv.most_similar('전구', topn=20)\n",
    "light_word.extend(exclusion(light))\n",
    "\n",
    "light_word.append('라이트')\n",
    "light_word.append('전구')\n",
    "\n",
    "light_word = set(light_word)\n",
    "\n",
    "# 경고등도 평균 이상만 저장\n",
    "error = model.wv.most_similar('경고등', topn=10)\n",
    "error_word = exclusion(error)\n",
    "error_word.append('경고등')\n",
    "\n",
    "print(light_word)\n",
    "print('')\n",
    "print(error_word)"
   ]
  },
  {
   "cell_type": "code",
   "execution_count": 53,
   "id": "9ba3c2a0",
   "metadata": {},
   "outputs": [
    {
     "name": "stdout",
     "output_type": "stream",
     "text": [
      "{'내비게이션': '네비게이션', '내비': '네비게이션', '네비': '네비게이션', '딜리버리': '탁송', '탁송비': '탁송', '브레이크 오일': '브레이크액', '브레이크오일': '브레이크액', '라디오': '오디오', '헤드라이트': '라이트', '전구': '라이트', '주행등': '라이트', '라이트전구': '라이트', '브레이크전구': '라이트', '미등': '라이트', '라이': '라이트', '전조등': '라이트', '백색더블': '라이트', '브레이크등': '라이트', '안개등': '라이트', '하향등': '라이트', '라이트': '라이트', '주간주행등': '라이트', '주간': '라이트', '공기압경고등': '경고등', '라이트경고등': '경고등', '경고': '경고등', '엔진체크등': '경고등', '고장코드': '경고등', '경고등': '경고등'}\n"
     ]
    }
   ],
   "source": [
    "# 매핑 테이블 작성\n",
    "mapping_table = {'내비게이션':'네비게이션', '내비':'네비게이션', '네비':'네비게이션', \\\n",
    "                  '딜리버리':'탁송', '탁송비':'탁송', \\\n",
    "                  '브레이크 오일':'브레이크액', '브레이크오일':'브레이크액', \\\n",
    "                  '라디오':'오디오'}\n",
    "\n",
    "# \"라이트\" 관련 단어 매핑 테이블 추가\n",
    "light_mapping = dict()\n",
    "for word in light_word:\n",
    "    light_mapping[word] = '라이트'\n",
    "\n",
    "mapping_table.update(light_mapping)\n",
    "\n",
    "# \"경고등\" 관련 단어 매핑 테이블 추가\n",
    "error_mapping = dict()\n",
    "for word in error_word:\n",
    "    error_mapping[word] = '경고등'\n",
    "\n",
    "mapping_table.update(error_mapping)\n",
    "\n",
    "print(mapping_table)"
   ]
  },
  {
   "cell_type": "code",
   "execution_count": 54,
   "id": "a9c79f7e",
   "metadata": {},
   "outputs": [
    {
     "name": "stdout",
     "output_type": "stream",
     "text": [
      "45\n"
     ]
    }
   ],
   "source": [
    "#total 45 category\n",
    "category = set(memo_data['inspect_type'])\n",
    "print(len(category))"
   ]
  },
  {
   "cell_type": "code",
   "execution_count": 55,
   "id": "87d9c102",
   "metadata": {},
   "outputs": [],
   "source": [
    "def noun_phrase(words):\n",
    "    result = []\n",
    "\n",
    "    for index, token in enumerate(words):\n",
    "        if (token in car_dic) or (token in category):\n",
    "            #명사구 check\n",
    "            if (''.join(words[index : index +2]) in car_dic) or (''.join(words[index : index +2]) in category):\n",
    "                result.append(''.join(words[index : index +2]))\n",
    "            #명사구 X\n",
    "            result.append(token)\n",
    "    return result\n",
    "\n",
    "def find_category(row):\n",
    "    # word base\n",
    "    line = row['description'].replace('_',' ').replace('-',' ').replace('/',' ').replace('ㄴ',' ').replace('#',' ').replace('=',' ').replace(')',' ) ').replace('(',' ( ')\n",
    "    car_token = noun_phrase(line.upper().split())\n",
    "    # subword base\n",
    "    car_token.extend(noun_phrase(row['subword_description'].upper().split()))\n",
    "    return set(car_token)"
   ]
  },
  {
   "cell_type": "code",
   "execution_count": 56,
   "id": "011e237e",
   "metadata": {},
   "outputs": [
    {
     "name": "stdout",
     "output_type": "stream",
     "text": [
      "[('전구', 4971), ('엔진', 1931), ('전조등', 1380), ('브레이크', 1321), ('타이어', 824), ('센서', 609), ('시트', 581), ('도어', 528), ('유리', 510), ('휠', 497), ('에어컨', 482), ('디스크', 465), ('장애처리', 459), ('스로틀바디', 454), ('제동등', 432), ('연료', 396), ('커버', 341), ('범퍼', 320), ('배터리', 305), ('암', 300)]\n"
     ]
    }
   ],
   "source": [
    "subword_list = []\n",
    "for _, row in memo_data.iterrows():\n",
    "    if row['inspect_type'] == '일반수리':\n",
    "        car_words = find_category(row) #find word in car_dic\n",
    "    \n",
    "        if len(car_words) >= 1:  #car_words more than one\n",
    "            subword_list.extend(car_words)\n",
    "\n",
    "subword_list = [subword for subword in subword_list if subword != '']\n",
    "subword_counter = Counter(subword_list) #car_dic에 포함되는 단어 + category에 포함되는 단어\n",
    "subword_sort = sorted(subword_counter.items(), key=lambda x:x[1], reverse=True)\n",
    "subword_top20 = [(key, value) for key, value in subword_sort[:20]]\n",
    "\n",
    "print(subword_top20)"
   ]
  },
  {
   "cell_type": "code",
   "execution_count": 57,
   "id": "d06d379f",
   "metadata": {},
   "outputs": [],
   "source": [
    "def re_ranking(word_list):\n",
    "    '''\n",
    "    이전에 카테고리 카운팅된 subword_counter를 기준으로 Recategoring\n",
    "    IF. 2개 이상의 카테고리 단어가 한 문장에서 등장할 경우, max 값 카테고리를 취함\n",
    "    '''\n",
    "    max_word = (None, -99)\n",
    "    for word in word_list:\n",
    "        # 단어가 mapping table에 포함되는 경우\n",
    "        # mapping table Key word를 반환함\n",
    "        if word in mapping_table:\n",
    "            word = mapping_table.get(word)\n",
    "\n",
    "        # 단어가 2개이상 선택되는 경우, 고빈도 word를 취함\n",
    "        if subword_counter[word] > max_word[1]:\n",
    "            max_word = (word, subword_counter[word])\n",
    "\n",
    "    return max_word[0]"
   ]
  },
  {
   "cell_type": "code",
   "execution_count": 58,
   "id": "ed7f5b99",
   "metadata": {},
   "outputs": [
    {
     "data": {
      "text/html": [
       "<div>\n",
       "<style scoped>\n",
       "    .dataframe tbody tr th:only-of-type {\n",
       "        vertical-align: middle;\n",
       "    }\n",
       "\n",
       "    .dataframe tbody tr th {\n",
       "        vertical-align: top;\n",
       "    }\n",
       "\n",
       "    .dataframe thead th {\n",
       "        text-align: right;\n",
       "    }\n",
       "</style>\n",
       "<table border=\"1\" class=\"dataframe\">\n",
       "  <thead>\n",
       "    <tr style=\"text-align: right;\">\n",
       "      <th></th>\n",
       "      <th>inspect_at</th>\n",
       "      <th>inspect_type</th>\n",
       "      <th>recategory</th>\n",
       "      <th>description</th>\n",
       "      <th>subword_description</th>\n",
       "    </tr>\n",
       "  </thead>\n",
       "  <tbody>\n",
       "    <tr>\n",
       "      <th>0</th>\n",
       "      <td>2020-03-09</td>\n",
       "      <td>타이어수리(후우)</td>\n",
       "      <td>None</td>\n",
       "      <td>조수석뒤타이어 현장펑크수리</td>\n",
       "      <td>조수석 뒤 타이어 현장 펑크수리</td>\n",
       "    </tr>\n",
       "    <tr>\n",
       "      <th>1</th>\n",
       "      <td>2020-01-07</td>\n",
       "      <td>미션오일</td>\n",
       "      <td>None</td>\n",
       "      <td>단양애니카_미션오일 교환</td>\n",
       "      <td>단 양 애 니 카 미션오일 교환</td>\n",
       "    </tr>\n",
       "    <tr>\n",
       "      <th>2</th>\n",
       "      <td>2020-01-14</td>\n",
       "      <td>점화플러그</td>\n",
       "      <td>None</td>\n",
       "      <td>당진세계모터스_점화플러그 교환</td>\n",
       "      <td>당진세계모터스 점화플러그 교환</td>\n",
       "    </tr>\n",
       "    <tr>\n",
       "      <th>3</th>\n",
       "      <td>2020-01-14</td>\n",
       "      <td>브레이크액</td>\n",
       "      <td>None</td>\n",
       "      <td>당진세계모터스-브레이크오일 교환</td>\n",
       "      <td>당진세계모터스 브레이크오일 교환</td>\n",
       "    </tr>\n",
       "    <tr>\n",
       "      <th>4</th>\n",
       "      <td>2020-01-06</td>\n",
       "      <td>브레이크액</td>\n",
       "      <td>None</td>\n",
       "      <td>당진세계모터스_브레이크오일 교환</td>\n",
       "      <td>당진세계모터스 브레이크오일 교환</td>\n",
       "    </tr>\n",
       "  </tbody>\n",
       "</table>\n",
       "</div>"
      ],
      "text/plain": [
       "   inspect_at inspect_type recategory        description subword_description\n",
       "0  2020-03-09    타이어수리(후우)       None     조수석뒤타이어 현장펑크수리   조수석 뒤 타이어 현장 펑크수리\n",
       "1  2020-01-07         미션오일       None      단양애니카_미션오일 교환   단 양 애 니 카 미션오일 교환\n",
       "2  2020-01-14        점화플러그       None   당진세계모터스_점화플러그 교환    당진세계모터스 점화플러그 교환\n",
       "3  2020-01-14        브레이크액       None  당진세계모터스-브레이크오일 교환   당진세계모터스 브레이크오일 교환\n",
       "4  2020-01-06        브레이크액       None  당진세계모터스_브레이크오일 교환   당진세계모터스 브레이크오일 교환"
      ]
     },
     "execution_count": 58,
     "metadata": {},
     "output_type": "execute_result"
    }
   ],
   "source": [
    "\"\"\"\n",
    "find more best category from 엔진오일\n",
    "\"\"\"\n",
    "category_count = 0\n",
    "recategory_count = 0\n",
    "recategory = []\n",
    "for _, row in memo_data.iterrows():\n",
    "    if row['inspect_type'] == '엔진오일':\n",
    "        carWords = find_category(row) #find word in carDic\n",
    "        recat = re_ranking(carWords)\n",
    "        recategory.append(recat)\n",
    "    \n",
    "        category_count += 1\n",
    "        if recat != None:\n",
    "            recategory_count += 1 \n",
    "\n",
    "    else:\n",
    "        recategory.append(None)\n",
    "\n",
    "memo_data['recategory'] = recategory #append recategory columns\n",
    "\n",
    "memo_data = memo_data[['inspect_at', 'inspect_type','recategory','description','subword_description']] #change columns order\n",
    "memo_data.to_csv(PATH+'/car_inspect_info_NEW.tsv', mode='w')\n",
    "\n",
    "memo_data.head()"
   ]
  },
  {
   "cell_type": "code",
   "execution_count": 59,
   "id": "f2d39db1",
   "metadata": {},
   "outputs": [
    {
     "name": "stdout",
     "output_type": "stream",
     "text": [
      "엔진오일 카테고리 개수 :  34568\n",
      "엔진오일 카테고리중 sub카테고리 변경 개수 :  25337\n"
     ]
    }
   ],
   "source": [
    "print('엔진오일 카테고리 개수 : ', category_count)\n",
    "print('엔진오일 카테고리중 sub카테고리 변경 개수 : ', recategory_count)"
   ]
  },
  {
   "cell_type": "code",
   "execution_count": 60,
   "id": "6c6bd677",
   "metadata": {},
   "outputs": [
    {
     "name": "stdout",
     "output_type": "stream",
     "text": [
      "[(None, 228805), ('엔진오일', 25171), ('타이어', 53), ('휠', 30), ('엔진', 18), ('오일', 17), ('지프', 15), ('암', 14), ('스테이션', 7), ('월', 6), ('와이퍼', 3), ('배터리', 1), ('펌프', 1), ('에어컨', 1)]\n"
     ]
    }
   ],
   "source": [
    "recategory_counter = Counter(recategory)\n",
    "recategory_counter_sorted = sorted(recategory_counter.items(), key=lambda x:x[1], reverse=True)\n",
    "recategory_top20 = [(key, value) for key, value in recategory_counter_sorted[:21]]\n",
    "print(recategory_top20)"
   ]
  },
  {
   "cell_type": "code",
   "execution_count": 61,
   "id": "f137e93e",
   "metadata": {},
   "outputs": [
    {
     "data": {
      "text/html": [
       "<div>\n",
       "<style scoped>\n",
       "    .dataframe tbody tr th:only-of-type {\n",
       "        vertical-align: middle;\n",
       "    }\n",
       "\n",
       "    .dataframe tbody tr th {\n",
       "        vertical-align: top;\n",
       "    }\n",
       "\n",
       "    .dataframe thead th {\n",
       "        text-align: right;\n",
       "    }\n",
       "</style>\n",
       "<table border=\"1\" class=\"dataframe\">\n",
       "  <thead>\n",
       "    <tr style=\"text-align: right;\">\n",
       "      <th></th>\n",
       "      <th>inspect_at</th>\n",
       "      <th>inspect_type</th>\n",
       "      <th>recategory</th>\n",
       "      <th>description</th>\n",
       "      <th>subword_description</th>\n",
       "      <th>dates</th>\n",
       "    </tr>\n",
       "  </thead>\n",
       "  <tbody>\n",
       "    <tr>\n",
       "      <th>75220</th>\n",
       "      <td>2020-01-31</td>\n",
       "      <td>엔진오일</td>\n",
       "      <td>None</td>\n",
       "      <td>보령스팀닥터_엔진오일교환</td>\n",
       "      <td>보 령 스 팀 닥 터 엔진오일교환</td>\n",
       "      <td>2020-01-31</td>\n",
       "    </tr>\n",
       "    <tr>\n",
       "      <th>75221</th>\n",
       "      <td>2020-01-13</td>\n",
       "      <td>엔진오일</td>\n",
       "      <td>엔진오일</td>\n",
       "      <td>보령스팀닥터_엔진오일 교환</td>\n",
       "      <td>보 령 스 팀 닥 터 엔진오일 교환</td>\n",
       "      <td>2020-01-13</td>\n",
       "    </tr>\n",
       "    <tr>\n",
       "      <th>75222</th>\n",
       "      <td>2020-01-14</td>\n",
       "      <td>엔진오일</td>\n",
       "      <td>엔진오일</td>\n",
       "      <td>당진세계모터스_엔진오일 교환</td>\n",
       "      <td>당진세계모터스 엔진오일 교환</td>\n",
       "      <td>2020-01-14</td>\n",
       "    </tr>\n",
       "    <tr>\n",
       "      <th>75223</th>\n",
       "      <td>2020-01-14</td>\n",
       "      <td>엔진오일</td>\n",
       "      <td>엔진오일</td>\n",
       "      <td>당진세계모터스_엔진오일 교환</td>\n",
       "      <td>당진세계모터스 엔진오일 교환</td>\n",
       "      <td>2020-01-14</td>\n",
       "    </tr>\n",
       "    <tr>\n",
       "      <th>75224</th>\n",
       "      <td>2020-10-14</td>\n",
       "      <td>엔진오일</td>\n",
       "      <td>None</td>\n",
       "      <td>교환 / 37w-1488</td>\n",
       "      <td>교환 37 w 14 88</td>\n",
       "      <td>2020-10-14</td>\n",
       "    </tr>\n",
       "  </tbody>\n",
       "</table>\n",
       "</div>"
      ],
      "text/plain": [
       "       inspect_at inspect_type recategory      description  \\\n",
       "75220  2020-01-31         엔진오일       None    보령스팀닥터_엔진오일교환   \n",
       "75221  2020-01-13         엔진오일       엔진오일   보령스팀닥터_엔진오일 교환   \n",
       "75222  2020-01-14         엔진오일       엔진오일  당진세계모터스_엔진오일 교환   \n",
       "75223  2020-01-14         엔진오일       엔진오일  당진세계모터스_엔진오일 교환   \n",
       "75224  2020-10-14         엔진오일       None    교환 / 37w-1488   \n",
       "\n",
       "       subword_description      dates  \n",
       "75220   보 령 스 팀 닥 터 엔진오일교환 2020-01-31  \n",
       "75221  보 령 스 팀 닥 터 엔진오일 교환 2020-01-13  \n",
       "75222      당진세계모터스 엔진오일 교환 2020-01-14  \n",
       "75223      당진세계모터스 엔진오일 교환 2020-01-14  \n",
       "75224        교환 37 w 14 88 2020-10-14  "
      ]
     },
     "execution_count": 61,
     "metadata": {},
     "output_type": "execute_result"
    }
   ],
   "source": [
    "# 엔진오일에 해당하는 row만 추림\n",
    "normal = memo_data.loc[memo_data['inspect_type'] == '엔진오일'].copy()\n",
    "\n",
    "#pandas inspect_at column to datetime object\n",
    "normal['dates'] = pd.to_datetime(normal['inspect_at'], format='%Y-%m-%d', errors='raise')\n",
    "\n",
    "normal.head()"
   ]
  },
  {
   "cell_type": "code",
   "execution_count": 62,
   "id": "755d57a1",
   "metadata": {},
   "outputs": [
    {
     "data": {
      "image/png": "[encoded data removed]",
      "text/plain": [
       "<Figure size 576x432 with 1 Axes>"
      ]
     },
     "metadata": {
      "image/png": {
       "height": 427,
       "width": 512
      },
      "needs_background": "light"
     },
     "output_type": "display_data"
    }
   ],
   "source": [
    "monthly = normal.groupby(pd.Grouper(key='dates', freq='M')).count()\n",
    "monthly = monthly['inspect_at']\n",
    "monthly = monthly.reset_index() #dates가 index인데, 이를 제거해줌(column으로 변경)\n",
    "monthly['dates_str'] = monthly['dates'].apply(lambda x: str(x)[:10]) #datetime to str\n",
    "\n",
    "plt.rcParams[\"figure.figsize\"] = (8, 6)\n",
    "monthly.plot(x='dates_str',y='inspect_at', color='#00B8FF', kind='bar') #Socar color\n",
    "\n",
    "plt.xticks(rotation=45)\n",
    "plt.title('Monthly Freq')\n",
    "plt.xlabel('Month')\n",
    "plt.ylabel('freq')\n",
    "\n",
    "plt.savefig(PATH+'/Monthly_freq.png')\n",
    "plt.show()"
   ]
  },
  {
   "cell_type": "code",
   "execution_count": 63,
   "id": "ada73827",
   "metadata": {},
   "outputs": [
    {
     "data": {
      "image/png": "[encoded data removed]",
      "text/plain": [
       "<Figure size 576x432 with 1 Axes>"
      ]
     },
     "metadata": {
      "image/png": {
       "height": 401,
       "width": 515
      },
      "needs_background": "light"
     },
     "output_type": "display_data"
    }
   ],
   "source": [
    "# recategory freq Top 5\n",
    "temp = pd.DataFrame()\n",
    "for word, count in recategory_top20[1:6]:\n",
    "    temp[word] = normal.groupby(pd.Grouper(key='dates', freq='M'))['recategory'].apply(lambda x: x[x == word].count())\n",
    "\n",
    "temp.plot(marker='.')\n",
    "plt.title('Monthly Freq')\n",
    "plt.xlabel('Month')\n",
    "plt.ylabel('freq')\n",
    "plt.savefig(PATH+'/recategory_top5.png')\n",
    "plt.show()"
   ]
  },
  {
   "cell_type": "code",
   "execution_count": 64,
   "id": "f6c1239f",
   "metadata": {},
   "outputs": [
    {
     "data": {
      "image/png": "[encoded data removed]",
      "text/plain": [
       "<Figure size 576x432 with 1 Axes>"
      ]
     },
     "metadata": {
      "image/png": {
       "height": 401,
       "width": 497
      },
      "needs_background": "light"
     },
     "output_type": "display_data"
    }
   ],
   "source": [
    "# recategory freq Top 6-10\n",
    "temp = pd.DataFrame()\n",
    "for word, count in recategory_top20[6:11]:\n",
    "    temp[word] = normal.groupby(pd.Grouper(key='dates', freq='M'))['recategory'].apply(lambda x: x[x == word].count())\n",
    "\n",
    "temp.plot(marker='.')\n",
    "plt.title('Monthly Freq')\n",
    "plt.xlabel('Month')\n",
    "plt.ylabel('freq')\n",
    "plt.savefig(PATH+'/recategory_6_10.png')\n",
    "plt.show()"
   ]
  }
 ],
 "metadata": {
  "kernelspec": {
   "display_name": "Python 3 (ipykernel)",
   "language": "python",
   "name": "python3"
  },
  "language_info": {
   "codemirror_mode": {
    "name": "ipython",
    "version": 3
   },
   "file_extension": ".py",
   "mimetype": "text/x-python",
   "name": "python",
   "nbconvert_exporter": "python",
   "pygments_lexer": "ipython3",
   "version": "3.9.7"
  }
 },
 "nbformat": 4,
 "nbformat_minor": 5
}
